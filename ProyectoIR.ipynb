{
  "nbformat": 4,
  "nbformat_minor": 0,
  "metadata": {
    "colab": {
      "provenance": [],
      "authorship_tag": "ABX9TyNHhnXTRbCjAFn71uUNB2Oi",
      "include_colab_link": true
    },
    "kernelspec": {
      "name": "python3",
      "display_name": "Python 3"
    },
    "language_info": {
      "name": "python"
    }
  },
  "cells": [
    {
      "cell_type": "markdown",
      "metadata": {
        "id": "view-in-github",
        "colab_type": "text"
      },
      "source": [
        "<a href=\"https://colab.research.google.com/github/nMishelRamirez/Project_IR/blob/preprocess/ProyectoIR.ipynb\" target=\"_parent\"><img src=\"https://colab.research.google.com/assets/colab-badge.svg\" alt=\"Open In Colab\"/></a>"
      ]
    },
    {
      "cell_type": "markdown",
      "source": [
        "# Proyecto de Recuperación de la información"
      ],
      "metadata": {
        "id": "6XRsMUTVBCgG"
      }
    },
    {
      "cell_type": "markdown",
      "source": [
        "Integrantes:\n",
        "- Ramirez Mishel\n",
        "- Zaldumbide Danna"
      ],
      "metadata": {
        "id": "vIkoziHjRWAf"
      }
    },
    {
      "cell_type": "code",
      "source": [
        "# Conexión con el Script\n",
        "from google.colab import drive\n",
        "drive.mount('/content/drive')"
      ],
      "metadata": {
        "colab": {
          "base_uri": "https://localhost:8080/"
        },
        "id": "vqJZfRwNjc-S",
        "outputId": "95312c89-7fb2-4dd3-c20d-71e5f31b0123"
      },
      "execution_count": 29,
      "outputs": [
        {
          "output_type": "stream",
          "name": "stdout",
          "text": [
            "Drive already mounted at /content/drive; to attempt to forcibly remount, call drive.mount(\"/content/drive\", force_remount=True).\n"
          ]
        }
      ]
    },
    {
      "cell_type": "code",
      "source": [
        "!pip install contractions"
      ],
      "metadata": {
        "colab": {
          "base_uri": "https://localhost:8080/"
        },
        "id": "sIAXigv0lAk0",
        "outputId": "d1cbbaed-27a7-4583-96a2-5f005ed2537e"
      },
      "execution_count": 9,
      "outputs": [
        {
          "output_type": "stream",
          "name": "stdout",
          "text": [
            "Requirement already satisfied: contractions in /usr/local/lib/python3.11/dist-packages (0.1.73)\n",
            "Requirement already satisfied: textsearch>=0.0.21 in /usr/local/lib/python3.11/dist-packages (from contractions) (0.0.24)\n",
            "Requirement already satisfied: anyascii in /usr/local/lib/python3.11/dist-packages (from textsearch>=0.0.21->contractions) (0.3.2)\n",
            "Requirement already satisfied: pyahocorasick in /usr/local/lib/python3.11/dist-packages (from textsearch>=0.0.21->contractions) (2.1.0)\n"
          ]
        }
      ]
    },
    {
      "cell_type": "code",
      "source": [
        "# Importar la librería\n",
        "import sys\n",
        "sys.path.append('/content/drive/MyDrive')\n",
        "\n",
        "# import preprocessing as pp\n",
        "import preprocessing_prueba as pp\n",
        "\n",
        "import nltk\n",
        "try:\n",
        "    nltk.data.find('tokenizers/punkt_tab')\n",
        "except LookupError:\n",
        "    nltk.download('punkt_tab')\n",
        "\n",
        "# Corpus de prueba\n",
        "corpus = [\n",
        "    \"Natural Language Processing is amazing!\",\n",
        "    \"This is a simple example, isn't it?\",\n",
        "    \"We are learning how to build a custom NLP pipeline.\",\n",
        "    \"El gato está en la casa\",\n",
        "    \"El perro juega en el jardín\",\n",
        "    \"Me gusta programar en Python\",\n",
        "    \"El conejo es un mamífero\",\n",
        "    \"Me gusta programar en React\",\n",
        "    \"No me gusta programar en Angular\",\n",
        "]\n",
        "\n",
        "# Ejecutar el preprocesamiento completo\n",
        "stemmed, lemmatized = pp.preprocess(corpus)\n",
        "\n",
        "# Mostrar resultados\n",
        "for i in range(len(corpus)):\n",
        "    print(f\"\\nDocumento {i+1}\")\n",
        "    print(\"Original:\", corpus[i])\n",
        "    print(\"Stemming:\", stemmed[i])\n",
        "    print(\"Lematización:\", lemmatized[i])\n",
        "    print(\"=\"*60)"
      ],
      "metadata": {
        "id": "HENWM8JFR3kP"
      },
      "execution_count": null,
      "outputs": []
    }
  ]
}