{
  "nbformat": 4,
  "nbformat_minor": 0,
  "metadata": {
    "colab": {
      "provenance": [],
      "include_colab_link": true
    },
    "kernelspec": {
      "name": "python3",
      "display_name": "Python 3"
    },
    "language_info": {
      "name": "python"
    }
  },
  "cells": [
    {
      "cell_type": "markdown",
      "metadata": {
        "id": "view-in-github",
        "colab_type": "text"
      },
      "source": [
        "<a href=\"https://colab.research.google.com/github/nMishelRamirez/Project_IR/blob/preprocess/Preprocesamiento_.ipynb\" target=\"_parent\"><img src=\"https://colab.research.google.com/assets/colab-badge.svg\" alt=\"Open In Colab\"/></a>"
      ]
    },
    {
      "cell_type": "code",
      "source": [
        "from google.colab import drive\n",
        "drive.mount('/content/drive')"
      ],
      "metadata": {
        "colab": {
          "base_uri": "https://localhost:8080/"
        },
        "id": "YHqLYYWajF_r",
        "outputId": "8e8451fc-6516-4f93-b511-a1e89e8a21d8"
      },
      "execution_count": null,
      "outputs": [
        {
          "output_type": "stream",
          "name": "stdout",
          "text": [
            "Mounted at /content/drive\n"
          ]
        }
      ]
    },
    {
      "cell_type": "code",
      "source": [
        "%%writefile /content/drive/MyDrive/preprocessing_prueba.py\n",
        "# ======================= #\n",
        "#    LIBRERÍA NLP BASE   #\n",
        "# ======================= #\n",
        "import nltk\n",
        "import contractions\n",
        "import string\n",
        "from nltk.corpus import stopwords\n",
        "from nltk.stem import PorterStemmer, WordNetLemmatizer\n",
        "from nltk.tokenize import word_tokenize\n",
        "\n",
        "# Descargar recursos necesarios\n",
        "nltk.download('punkt', quiet=True)\n",
        "nltk.download('stopwords', quiet=True)\n",
        "nltk.download('wordnet', quiet=True)\n",
        "nltk.download('omw-1.4', quiet=True)\n",
        "nltk.download('punkt_tab', quiet=True)\n",
        "\n",
        "# ======================= #\n",
        "#  PREPROCESAMIENTO NLP   #\n",
        "# ======================= #\n",
        "\n",
        "def preprocess(corpus, lang='english', return_all=False):\n",
        "    \"\"\"\n",
        "    Realiza el preprocesamiento completo de un corpus.\n",
        "\n",
        "    Pasos:\n",
        "        - Expandir contracciones\n",
        "        - Tokenización robusta\n",
        "        - Normalización (minúsculas + solo alfabético)\n",
        "        - Eliminación de stopwords y puntuación\n",
        "        - Stemming\n",
        "        - Lematización\n",
        "\n",
        "    Parámetros:\n",
        "        corpus (list): Lista de strings (documentos)\n",
        "        lang (str): Idioma para las stopwords (por defecto 'english')\n",
        "        return_all (bool): Si True, devuelve todos los pasos. Si False, solo lematizado y stemmed\n",
        "\n",
        "    Retorna:\n",
        "        Si return_all:\n",
        "            (tokenized, normalized, filtered, stemmed, lemmatized)\n",
        "        Si no:\n",
        "            (stemmed, lemmatized)\n",
        "    \"\"\"\n",
        "\n",
        "    stop_words = set(stopwords.words(lang))\n",
        "    lemmatizer = WordNetLemmatizer()\n",
        "    stemmer = PorterStemmer()\n",
        "    special_chars = set(string.punctuation)\n",
        "\n",
        "    tokenized, normalized, filtered, stemmed, lemmatized = [], [], [], [], []\n",
        "\n",
        "    for doc in corpus:\n",
        "        # Expandir contracciones\n",
        "        expanded = contractions.fix(doc)\n",
        "\n",
        "        # ======================= #\n",
        "        #   1. TOKENIZACIÓN       #\n",
        "        # ======================= #\n",
        "        tokens = word_tokenize(expanded.lower())\n",
        "        tokenized.append(tokens)\n",
        "\n",
        "        # ============================ #\n",
        "        #   2. NORMALIZACIÓN           #\n",
        "        # ============================ #\n",
        "        normalized_tokens = [token for token in tokens if token.isalpha()]\n",
        "        normalized.append(normalized_tokens)\n",
        "\n",
        "        # ============================ #\n",
        "        #   3. STOPWORDS FILTER        #\n",
        "        # ============================ #\n",
        "        filtered_tokens = [\n",
        "            token for token in normalized_tokens\n",
        "            if token not in stop_words and token not in special_chars\n",
        "        ]\n",
        "        filtered.append(filtered_tokens)\n",
        "\n",
        "        # ============================ #\n",
        "        #   4. STEMMING                #\n",
        "        # ============================ #\n",
        "        stemmed_tokens = [stemmer.stem(token) for token in filtered_tokens]\n",
        "        stemmed.append(stemmed_tokens)\n",
        "\n",
        "        # ============================ #\n",
        "        #   5. LEMMATIZING             #\n",
        "        # ============================ #\n",
        "        lemmatized_tokens = [lemmatizer.lemmatize(token) for token in filtered_tokens]\n",
        "        lemmatized.append(lemmatized_tokens)\n",
        "\n",
        "    if return_all:\n",
        "        return tokenized, normalized, filtered, stemmed, lemmatized\n",
        "    else:\n",
        "        return stemmed, lemmatized\n"
      ],
      "metadata": {
        "colab": {
          "base_uri": "https://localhost:8080/"
        },
        "id": "UvMK-TbjkFjE",
        "outputId": "a5228d44-b4da-40d0-dff4-723ee9c15ee7"
      },
      "execution_count": null,
      "outputs": [
        {
          "output_type": "stream",
          "name": "stdout",
          "text": [
            "Overwriting /content/drive/MyDrive/preprocessing_prueba.py\n"
          ]
        }
      ]
    }
  ]
}