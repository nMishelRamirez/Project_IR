{
  "nbformat": 4,
  "nbformat_minor": 0,
  "metadata": {
    "colab": {
      "provenance": [],
      "include_colab_link": true
    },
    "kernelspec": {
      "name": "python3",
      "display_name": "Python 3"
    },
    "language_info": {
      "name": "python"
    }
  },
  "cells": [
    {
      "cell_type": "markdown",
      "metadata": {
        "id": "view-in-github",
        "colab_type": "text"
      },
      "source": [
        "<a href=\"https://colab.research.google.com/github/nMishelRamirez/Project_IR/blob/main/Preprocesamiento_.ipynb\" target=\"_parent\"><img src=\"https://colab.research.google.com/assets/colab-badge.svg\" alt=\"Open In Colab\"/></a>"
      ]
    },
    {
      "cell_type": "code",
      "source": [
        "from google.colab import drive\n",
        "drive.mount('/content/drive')"
      ],
      "metadata": {
        "colab": {
          "base_uri": "https://localhost:8080/"
        },
        "id": "YHqLYYWajF_r",
        "outputId": "08f16b69-e922-410d-f8fe-53fa63ac9ae5"
      },
      "execution_count": null,
      "outputs": [
        {
          "output_type": "stream",
          "name": "stdout",
          "text": [
            "Mounted at /content/drive\n"
          ]
        }
      ]
    },
    {
      "cell_type": "code",
      "source": [
        "%%writefile /content/drive/MyDrive/preprocessing.py\n",
        "# ======================= #\n",
        "#    LIBRERÍA NLP BASE   #\n",
        "# ======================= #\n",
        "import nltk\n",
        "import contractions\n",
        "import string\n",
        "from nltk.corpus import stopwords\n",
        "from nltk.stem import PorterStemmer, WordNetLemmatizer\n",
        "from nltk.tokenize import word_tokenize\n",
        "import pandas as pd\n",
        "\n",
        "# Descargar recursos necesarios\n",
        "nltk.download('punkt', quiet=True)\n",
        "nltk.download('stopwords', quiet=True)\n",
        "nltk.download('wordnet', quiet=True)\n",
        "nltk.download('omw-1.4', quiet=True)\n",
        "nltk.download('punkt_tab')\n",
        "\n",
        "# ======================= #\n",
        "#  PREPROCESAMIENTO NLP   #\n",
        "# ======================= #\n",
        "\n",
        "def preprocess(corpus, lang='english', return_all=False):\n",
        "\n",
        "    stop_words = set(stopwords.words(lang))\n",
        "    lemmatizer = WordNetLemmatizer()\n",
        "    stemmer = PorterStemmer()\n",
        "    special_chars = set(string.punctuation)\n",
        "\n",
        "    tokenized, normalized, filtered, stemmed, lemmatized = [], [], [], [], []\n",
        "\n",
        "    for doc in corpus:\n",
        "        doc = doc.replace(\"\\n\", \" \").replace(\"\\r\", \" \").strip()\n",
        "        doc = contractions.fix(doc)\n",
        "\n",
        "        # ======================= #\n",
        "        #   1. TOKENIZACIÓN       #\n",
        "        # ======================= #\n",
        "        tokens = word_tokenize(doc)\n",
        "        tokenized.append(tokens)\n",
        "\n",
        "        # ============================ #\n",
        "        #   2. NORMALIZACIÓN           #\n",
        "        # ============================ #\n",
        "        normalized_tokens = [\n",
        "            token.lower() for token in tokens\n",
        "            if token.isalpha() and token not in special_chars\n",
        "        ]\n",
        "        normalized.append(normalized_tokens)\n",
        "\n",
        "        # ============================ #\n",
        "        #   3. STOPWORDS FILTER        #\n",
        "        # ============================ #\n",
        "        filtered_tokens = [\n",
        "            token for token in normalized_tokens if token not in stop_words\n",
        "        ]\n",
        "        filtered.append(filtered_tokens)\n",
        "\n",
        "        # ============================ #\n",
        "        #   4. STEMMING                #\n",
        "        # ============================ #\n",
        "        stemmed_tokens = [stemmer.stem(token) for token in filtered_tokens]\n",
        "        stemmed.append(stemmed_tokens)\n",
        "\n",
        "        # ============================ #\n",
        "        #   5. LEMMATIZACIÓN           #\n",
        "        # ============================ #\n",
        "        lemmatized_tokens = [lemmatizer.lemmatize(token) for token in filtered_tokens]\n",
        "        lemmatized.append(lemmatized_tokens)\n",
        "\n",
        "    if return_all:\n",
        "        return tokenized, normalized, filtered, stemmed, lemmatized\n",
        "    else:\n",
        "        return stemmed, lemmatized\n",
        "\n",
        "\n",
        "# Función para aplicar el preprocesamiento sobre un DataFrame\n",
        "def preprocess_dataframe(df, lang='english', return_all=False):\n",
        "    processed_docs = preprocess(df['raw'], lang=lang, return_all=return_all)\n",
        "\n",
        "    if return_all:\n",
        "        df[['tokenized', 'normalized', 'filtered', 'stemmed', 'lemmatized']] = pd.DataFrame(processed_docs).T\n",
        "    else:\n",
        "        df['stemmed'] = processed_docs[0]\n",
        "        df['lemmatized'] = processed_docs[1]\n",
        "\n",
        "    return df\n"
      ],
      "metadata": {
        "colab": {
          "base_uri": "https://localhost:8080/"
        },
        "id": "SQouQBaOPywt",
        "outputId": "26a7d4a2-17c1-4e63-c7aa-0c1fa20700e8"
      },
      "execution_count": null,
      "outputs": [
        {
          "output_type": "stream",
          "name": "stdout",
          "text": [
            "Writing /content/drive/MyDrive/preprocessing.py\n"
          ]
        }
      ]
    }
  ]
}